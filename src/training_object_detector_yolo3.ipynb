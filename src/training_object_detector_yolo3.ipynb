{
 "cells": [
  {
   "cell_type": "markdown",
   "metadata": {},
   "source": [
    "# 训练你的物体检测器"
   ]
  },
  {
   "cell_type": "code",
   "execution_count": 1,
   "metadata": {},
   "outputs": [
    {
     "name": "stdout",
     "output_type": "stream",
     "text": [
      "\u001b[33mDEPRECATION: Python 2.7 will reach the end of its life on January 1st, 2020. Please upgrade your Python as Python 2.7 won't be maintained after that date. A future version of pip will drop support for Python 2.7.\u001b[0m\n",
      "Collecting gluoncv\n",
      "\u001b[?25l  Downloading https://files.pythonhosted.org/packages/66/1e/e9096a9742764c9427bb7e408bc867b8761d9a2a830514f1997d1e51abaf/gluoncv-0.5.0-py2.py3-none-any.whl (511kB)\n",
      "\u001b[K     |████████████████████████████████| 512kB 3.9MB/s eta 0:00:01\n",
      "\u001b[?25hRequirement already satisfied: tqdm in /usr/local/lib/python2.7/site-packages (from gluoncv) (4.27.0)\n",
      "Requirement already satisfied: matplotlib in /usr/local/lib/python2.7/site-packages (from gluoncv) (2.2.3)\n",
      "Requirement already satisfied: scipy in /usr/local/lib/python2.7/site-packages (from gluoncv) (1.1.0)\n",
      "Requirement already satisfied: Pillow in /usr/local/lib/python2.7/site-packages (from gluoncv) (5.3.0)\n",
      "Requirement already satisfied: numpy in /usr/local/lib/python2.7/site-packages (from gluoncv) (1.14.6)\n",
      "Requirement already satisfied: requests in /usr/local/lib/python2.7/site-packages (from gluoncv) (2.18.4)\n",
      "Requirement already satisfied: python-dateutil>=2.1 in /usr/local/lib/python2.7/site-packages (from matplotlib->gluoncv) (2.7.3)\n",
      "Requirement already satisfied: cycler>=0.10 in /usr/local/lib/python2.7/site-packages (from matplotlib->gluoncv) (0.10.0)\n",
      "Requirement already satisfied: subprocess32 in /usr/local/lib/python2.7/site-packages (from matplotlib->gluoncv) (3.5.3)\n",
      "Requirement already satisfied: pytz in /usr/local/lib/python2.7/site-packages (from matplotlib->gluoncv) (2018.5)\n",
      "Requirement already satisfied: six>=1.10 in /usr/local/lib/python2.7/site-packages (from matplotlib->gluoncv) (1.11.0)\n",
      "Requirement already satisfied: backports.functools-lru-cache in /usr/local/lib/python2.7/site-packages (from matplotlib->gluoncv) (1.5)\n",
      "Requirement already satisfied: pyparsing!=2.0.4,!=2.1.2,!=2.1.6,>=2.0.1 in /usr/local/lib/python2.7/site-packages (from matplotlib->gluoncv) (2.2.2)\n",
      "Requirement already satisfied: kiwisolver>=1.0.1 in /usr/local/lib/python2.7/site-packages (from matplotlib->gluoncv) (1.0.1)\n",
      "Requirement already satisfied: idna<2.7,>=2.5 in /usr/local/lib/python2.7/site-packages (from requests->gluoncv) (2.6)\n",
      "Requirement already satisfied: urllib3<1.23,>=1.21.1 in /usr/local/lib/python2.7/site-packages (from requests->gluoncv) (1.22)\n",
      "Requirement already satisfied: certifi>=2017.4.17 in /usr/local/lib/python2.7/site-packages (from requests->gluoncv) (2018.10.15)\n",
      "Requirement already satisfied: chardet<3.1.0,>=3.0.2 in /usr/local/lib/python2.7/site-packages (from requests->gluoncv) (3.0.4)\n",
      "Requirement already satisfied: setuptools in /usr/local/lib/python2.7/site-packages (from kiwisolver>=1.0.1->matplotlib->gluoncv) (41.0.1)\n",
      "Installing collected packages: gluoncv\n",
      "Successfully installed gluoncv-0.5.0\n"
     ]
    }
   ],
   "source": [
    "!pip install gluoncv"
   ]
  },
  {
   "cell_type": "code",
   "execution_count": 2,
   "metadata": {},
   "outputs": [],
   "source": [
    "import gluoncv as gcv\n",
    "import mxnet as mx"
   ]
  },
  {
   "cell_type": "markdown",
   "metadata": {},
   "source": [
    "# 准备训练集"
   ]
  },
  {
   "cell_type": "code",
   "execution_count": 3,
   "metadata": {},
   "outputs": [
    {
     "name": "stdout",
     "output_type": "stream",
     "text": [
      "class_names: ['cocacola', 'cocacola-zero', 'juice', 'noodles', 'hand']\n",
      "num_images: 20\n"
     ]
    }
   ],
   "source": [
    "import os\n",
    "\n",
    "class DetectionDataset(gcv.data.VOCDetection):\n",
    "    CLASSES = ['cocacola', 'cocacola-zero', 'juice', 'noodles', 'hand']\n",
    "    def __init__(self, root):\n",
    "        self._im_shapes = {}\n",
    "        self._root = os.path.expanduser(root)\n",
    "        self._transform = None\n",
    "        self._items = [(self._root, x.strip('.xml')) for x in os.listdir(self._root) if x.endswith('.xml')]\n",
    "        self._anno_path = os.path.join('{}', '{}.xml')\n",
    "        self._image_path = os.path.join('{}', '{}.jpg')\n",
    "        self.index_map = dict(zip(self.classes, range(self.num_class)))\n",
    "        self._label_cache = self._preload_labels()\n",
    "        \n",
    "    def __str__(self):\n",
    "        detail = self._root\n",
    "        return self.__class__.__name__ + '(' + detail + ')'\n",
    "    \n",
    "    @property\n",
    "    def classes(self):\n",
    "        return self.CLASSES\n",
    "    \n",
    "    @property\n",
    "    def num_class(self):\n",
    "        return len(self.classes)\n",
    "        \n",
    "train_dataset = DetectionDataset('../images/v1/train')\n",
    "print('class_names:', train_dataset.classes)\n",
    "print('num_images:', len(train_dataset))"
   ]
  },
  {
   "cell_type": "markdown",
   "metadata": {},
   "source": [
    "# 可视化数据"
   ]
  },
  {
   "cell_type": "code",
   "execution_count": 4,
   "metadata": {},
   "outputs": [
    {
     "data": {
      "text/plain": [
       "<Figure size 640x480 with 1 Axes>"
      ]
     },
     "metadata": {},
     "output_type": "display_data"
    }
   ],
   "source": [
    "from matplotlib import pyplot as plt\n",
    "from gluoncv.utils import viz\n",
    "\n",
    "sample = train_dataset[0]\n",
    "train_image = sample[0]\n",
    "train_label = sample[1]\n",
    "\n",
    "ax = viz.plot_bbox(\n",
    "    train_image.asnumpy(),\n",
    "    train_label[:, :4],\n",
    "    labels=train_label[:, 4:5],\n",
    "    class_names=train_dataset.classes)\n",
    "plt.show()\n"
   ]
  },
  {
   "cell_type": "markdown",
   "metadata": {},
   "source": [
    "# 定义训练过程"
   ]
  },
  {
   "cell_type": "code",
   "execution_count": 25,
   "metadata": {},
   "outputs": [],
   "source": [
    "import time\n",
    "from datetime import datetime\n",
    "from mxnet import autograd\n",
    "from gluoncv.data.batchify import Tuple, Stack, Pad\n",
    "\n",
    "def train_model(train_dataset, epochs=50):\n",
    "#     ctx = mx.gpu(0)\n",
    "    ctx = mx.cpu(0)\n",
    "    net = gcv.model_zoo.get_model('yolo3_darknet53_custom', classes=train_dataset.classes, transfer='coco')\n",
    "    net.collect_params().reset_ctx(ctx)\n",
    "    width, height = 512, 512  # suppose we use 512 as base training size\n",
    "    gcv.utils.random.seed(233)\n",
    "    \n",
    "    batch_size = 4\n",
    "    # you can make it larger(if your CPU has more cores) to accelerate data loading\n",
    "    num_workers = 4\n",
    "\n",
    "    train_transform = gcv.data.transforms.presets.yolo.YOLO3DefaultTrainTransform(width, height, net)\n",
    "    batchify_fn = Tuple(*([Stack() for _ in range(6)] + [Pad(axis=0, pad_val=-1) for _ in range(1)]))\n",
    "    train_loader = mx.gluon.data.DataLoader(\n",
    "        train_dataset.transform(train_transform),\n",
    "        batch_size,\n",
    "        shuffle=True,\n",
    "        batchify_fn=batchify_fn,\n",
    "        last_batch='rollover',\n",
    "        num_workers=num_workers)\n",
    "    \n",
    "    sigmoid_ce = mx.gluon.loss.SigmoidBinaryCrossEntropyLoss(from_sigmoid=False)\n",
    "    l1_loss = mx.gluon.loss.L1Loss()\n",
    "    obj_metrics = mx.metric.Loss('ObjLoss')\n",
    "    center_metrics = mx.metric.Loss('BoxCenterLoss')\n",
    "    scale_metrics = mx.metric.Loss('BoxScaleLoss')\n",
    "    cls_metrics = mx.metric.Loss('ClassLoss')\n",
    "    for k, v in net.collect_params().items():\n",
    "        if 'yolodetectionblock' not in k and 'yolooutput' not in k:\n",
    "            # freeze upper layers\n",
    "            v.grad_req = 'null'\n",
    "    trainer = mx.gluon.Trainer(\n",
    "        net.collect_params(), 'sgd',\n",
    "        {'learning_rate': 0.001, 'wd': 0.0005, 'momentum': 0.9})\n",
    "    \n",
    "    net.hybridize(static_alloc=True, static_shape=True)\n",
    "    \n",
    "    for epoch in range(epochs):\n",
    "        tic = time.time()\n",
    "        btic = time.time()\n",
    "        \n",
    "        for i, batch in enumerate(train_loader):\n",
    "            batch_size = batch[0].shape[0]\n",
    "            data = mx.gluon.utils.split_and_load(batch[0], ctx_list=[ctx], batch_axis=0)\n",
    "            # objectness, center_targets, scale_targets, weights, class_targets\n",
    "            fixed_targets = [mx.gluon.utils.split_and_load(batch[it], ctx_list=[ctx], batch_axis=0) for it in range(1, 6)]\n",
    "            gt_boxes = mx.gluon.utils.split_and_load(batch[6], ctx_list=[ctx], batch_axis=0)\n",
    "            sum_losses = []\n",
    "            obj_losses = []\n",
    "            center_losses = []\n",
    "            scale_losses = []\n",
    "            cls_losses = []\n",
    "            \n",
    "            with autograd.record():\n",
    "                for ix, x in enumerate(data):\n",
    "                    obj_loss, center_loss, scale_loss, cls_loss = net(x, gt_boxes[ix], *[ft[ix] for ft in fixed_targets])\n",
    "                    sum_losses.append(obj_loss + center_loss + scale_loss + cls_loss)\n",
    "                    obj_losses.append(obj_loss)\n",
    "                    center_losses.append(center_loss)\n",
    "                    scale_losses.append(scale_loss)\n",
    "                    cls_losses.append(cls_loss)\n",
    "                autograd.backward(sum_losses)\n",
    "            trainer.step(batch_size)\n",
    "            obj_metrics.update(0, obj_losses)\n",
    "            center_metrics.update(0, center_losses)\n",
    "            scale_metrics.update(0, scale_losses)\n",
    "            cls_metrics.update(0, cls_losses)\n",
    "            name1, loss1 = obj_metrics.get()\n",
    "            name2, loss2 = center_metrics.get()\n",
    "            name3, loss3 = scale_metrics.get()\n",
    "            name4, loss4 = cls_metrics.get()\n",
    "            print('[Epoch {}][Batch {}], LR: {:.2E}, Speed: {:.3f} samples/sec, {}={:.3f}, {}={:.3f}, {}={:.3f}, {}={:.3f}'.format(\n",
    "                epoch, i, trainer.learning_rate, batch_size/(time.time()-btic), name1, loss1, name2, loss2, name3, loss3, name4, loss4))\n",
    "            btic = time.time()\n",
    "    return net\n",
    "        \n"
   ]
  },
  {
   "cell_type": "markdown",
   "metadata": {},
   "source": [
    "# 开始训练"
   ]
  },
  {
   "cell_type": "code",
   "execution_count": null,
   "metadata": {},
   "outputs": [
    {
     "name": "stdout",
     "output_type": "stream",
     "text": [
      "[Epoch 0][Batch 0], LR: 1.00E-03, Speed: 0.263 samples/sec, ObjLoss=11705.561, BoxCenterLoss=4.552, BoxScaleLoss=2.958, ClassLoss=6.068\n",
      "[Epoch 0][Batch 1], LR: 1.00E-03, Speed: 0.492 samples/sec, ObjLoss=5891.984, BoxCenterLoss=6.829, BoxScaleLoss=4.621, ClassLoss=9.452\n",
      "[Epoch 0][Batch 2], LR: 1.00E-03, Speed: 0.542 samples/sec, ObjLoss=3950.557, BoxCenterLoss=7.466, BoxScaleLoss=4.652, ClassLoss=9.730\n",
      "[Epoch 0][Batch 3], LR: 1.00E-03, Speed: 0.539 samples/sec, ObjLoss=2976.674, BoxCenterLoss=8.061, BoxScaleLoss=4.826, ClassLoss=10.345\n",
      "[Epoch 0][Batch 4], LR: 1.00E-03, Speed: 0.545 samples/sec, ObjLoss=2406.621, BoxCenterLoss=8.375, BoxScaleLoss=4.513, ClassLoss=10.576\n",
      "[Epoch 1][Batch 0], LR: 1.00E-03, Speed: 0.456 samples/sec, ObjLoss=2022.251, BoxCenterLoss=8.137, BoxScaleLoss=4.367, ClassLoss=10.255\n"
     ]
    }
   ],
   "source": [
    "epochs = 200\n",
    "net = train_model(train_dataset, epochs=epochs)\n",
    "save_file = 'object_detector_epoch{}_{}.params'.format(epochs, datetime.now().strftime(\"%m_%d_%Y_%H_%M_%S\"))\n",
    "net.save_parameters(save_file)\n",
    "print('Saved model to disk: ' + save_file)"
   ]
  },
  {
   "cell_type": "code",
   "execution_count": null,
   "metadata": {},
   "outputs": [],
   "source": []
  }
 ],
 "metadata": {
  "kernelspec": {
   "display_name": "Python 3",
   "language": "python",
   "name": "python3"
  },
  "language_info": {
   "codemirror_mode": {
    "name": "ipython",
    "version": 3
   },
   "file_extension": ".py",
   "mimetype": "text/x-python",
   "name": "python",
   "nbconvert_exporter": "python",
   "pygments_lexer": "ipython3",
   "version": "3.7.4"
  }
 },
 "nbformat": 4,
 "nbformat_minor": 4
}
