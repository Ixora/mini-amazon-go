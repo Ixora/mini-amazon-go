{
 "cells": [
  {
   "cell_type": "markdown",
   "metadata": {},
   "source": [
    "#how to setup rtmp server, please reference below url\n",
    "https://www.cnblogs.com/nowgood/p/ffmpegnginx.html\n",
    "\n",
    "#send rtmp data from pi4 to server, can use follow command\n",
    "ffmpeg -f v4l2 -r 45 -video_size vga -pix_fmt yuv420p12be -i /dev/video0 -b:v 500k -c:v h264_omx -preset ultrafast -an -f flv rtmp://ec2-54-222-130-39.cn-north-1.compute.amazonaws.com.cn/live/123456\n"
   ]
  },
  {
   "cell_type": "code",
   "execution_count": null,
   "metadata": {},
   "outputs": [],
   "source": [
    "import boto3\n",
    "from IPython.display import clear_output, Image, display, HTML\n",
    "import numpy as np\n",
    "import cv2\n",
    "import base64\n",
    "from bokeh.plotting import figure\n",
    "from bokeh.io import output_notebook, show, push_notebook\n",
    "import time\n",
    "output_notebook()"
   ]
  },
  {
   "cell_type": "code",
   "execution_count": null,
   "metadata": {},
   "outputs": [],
   "source": [
    "class VideoPlayer(object):\n",
    "    def __init__(self):\n",
    "        self._init = False\n",
    "        self._myImage = None\n",
    "        \n",
    "    def __call__(self, frame):\n",
    "        if frame is None:\n",
    "            return\n",
    "        if self._init is False:\n",
    "            self.init_display(frame)\n",
    "            self._init = True\n",
    "        else:\n",
    "            self.update_display(frame)\n",
    "\n",
    "    def init_display(self, frame):\n",
    "        assert frame is not None\n",
    "        frame=cv2.cvtColor(frame, cv2.COLOR_BGR2RGBA) # because Bokeh expects a RGBA image\n",
    "        frame=cv2.flip(frame, -1) # because Bokeh flips vertically\n",
    "        width=frame.shape[1]\n",
    "        height=frame.shape[0]\n",
    "        p = figure(x_range=(0,width), y_range=(0,height), output_backend=\"webgl\", width=width, height=height)\n",
    "        self._myImage = p.image_rgba(image=[frame], x=0, y=0, dw=width, dh=height)\n",
    "        show(p, notebook_handle=True)\n",
    "    \n",
    "    def update_display(self, frame):\n",
    "        assert frame is not None\n",
    "        frame=cv2.cvtColor(frame, cv2.COLOR_BGR2RGBA)\n",
    "        frame=cv2.flip(frame, -1)\n",
    "        self._myImage.data_source.data['image']=[frame]\n",
    "        push_notebook()"
   ]
  },
  {
   "cell_type": "code",
   "execution_count": null,
   "metadata": {},
   "outputs": [],
   "source": [
    "\"\"\"\n",
    "need add rtmp support for sagemaker, please follow this page\n",
    "https://answers.opencv.org/question/180776/build-opencv-with-ffmpeg-support/\n",
    "\"\"\"\n",
    "url=\"rtmp://ec2-54-222-130-39.cn-north-1.compute.amazonaws.com.cn/live/123456\"\n",
    "\n",
    "vcap = cv2.VideoCapture(url)\n",
    "player = VideoPlayer()\n",
    "\n",
    "ret, frame = vcap.read()\n",
    "\n",
    "while(True):\n",
    "    # Capture frame-by-frame\n",
    "    ret, frame = vcap.read()\n",
    "\n",
    "    if frame is not None:\n",
    "        # Display the resulting frame\n",
    "        #cv2.imshow('frame',frame)\n",
    "        player(frame)\n",
    "        #time.sleep(0.1)\n",
    "\n",
    "        # Press q to close the video windows before it ends if you want\n",
    "        #if cv2.waitKey(22) & 0xFF == ord('q'):\n",
    "        #    break\n",
    "    else:\n",
    "        print(\"Frame is None\")\n",
    "        break\n",
    "\n",
    "# When everything done, release the capture\n",
    "vcap.release()\n",
    "print(\"Video stop\")"
   ]
  },
  {
   "cell_type": "code",
   "execution_count": null,
   "metadata": {},
   "outputs": [],
   "source": []
  }
 ],
 "metadata": {
  "kernelspec": {
   "display_name": "conda_python3",
   "language": "python",
   "name": "conda_python3"
  },
  "language_info": {
   "codemirror_mode": {
    "name": "ipython",
    "version": 3
   },
   "file_extension": ".py",
   "mimetype": "text/x-python",
   "name": "python",
   "nbconvert_exporter": "python",
   "pygments_lexer": "ipython3",
   "version": "3.6.5"
  }
 },
 "nbformat": 4,
 "nbformat_minor": 4
}
